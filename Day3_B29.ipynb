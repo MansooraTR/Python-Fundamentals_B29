{
 "cells": [
  {
   "cell_type": "code",
   "execution_count": 7,
   "metadata": {},
   "outputs": [
    {
     "name": "stdout",
     "output_type": "stream",
     "text": [
      "SkyInstinct Trooper\n"
     ]
    }
   ],
   "source": [
    "#Introduction to f strings\n",
    "first_name = 'Sky'\n",
    "last_name = 'Instinct Trooper'\n",
    "full_name = f\"{first_name}{last_name}\"\n",
    "print(full_name)"
   ]
  },
  {
   "cell_type": "code",
   "execution_count": 9,
   "metadata": {},
   "outputs": [
    {
     "name": "stdout",
     "output_type": "stream",
     "text": [
      "Hello SkyInstinct Trooper\n"
     ]
    }
   ],
   "source": [
    "#Format and greet\n",
    "full_name = f\"Hello {first_name}{last_name}\"\n",
    "print(full_name)"
   ]
  },
  {
   "cell_type": "code",
   "execution_count": 11,
   "metadata": {},
   "outputs": [
    {
     "name": "stdout",
     "output_type": "stream",
     "text": [
      "fav_languages:C#pythoncppjavaangualarcobalpascal\n"
     ]
    }
   ],
   "source": [
    "#Adding WhiteSpaces\n",
    "print(\"fav_languages:C#pythoncppjavaangualarcobalpascal\")"
   ]
  },
  {
   "cell_type": "code",
   "execution_count": 14,
   "metadata": {},
   "outputs": [
    {
     "name": "stdout",
     "output_type": "stream",
     "text": [
      "fav_languages:\n",
      "C#\n",
      "python\n",
      "cpp\n",
      "java\n",
      "angualar\n",
      "cobal\n",
      "pascal\n"
     ]
    }
   ],
   "source": [
    "print(\"fav_languages:\\nC#\\npython\\ncpp\\njava\\nangualar\\ncobal\\npascal\")"
   ]
  },
  {
   "cell_type": "code",
   "execution_count": 15,
   "metadata": {},
   "outputs": [
    {
     "name": "stdout",
     "output_type": "stream",
     "text": [
      "fav_languages:\n",
      "\tC#\n",
      "\tptython\n",
      "\tcpp\n",
      "\tjava\n",
      "\tangualar\n",
      "\tcobal\n",
      "\tpascal\n"
     ]
    }
   ],
   "source": [
    "#Adding tabs and WhiteSpaces\n",
    "print(\"fav_languages:\\n\\tC#\\n\\tptython\\n\\tcpp\\n\\tjava\\n\\tangualar\\n\\tcobal\\n\\tpascal\")"
   ]
  },
  {
   "cell_type": "code",
   "execution_count": 24,
   "metadata": {},
   "outputs": [
    {
     "name": "stdout",
     "output_type": "stream",
     "text": [
      "python\n"
     ]
    }
   ],
   "source": [
    "#Removing whiteSpaces\n",
    "lang = \"python\"  # no space\n",
    "print(lang)"
   ]
  },
  {
   "cell_type": "code",
   "execution_count": 18,
   "metadata": {},
   "outputs": [
    {
     "name": "stdout",
     "output_type": "stream",
     "text": [
      "   python\n"
     ]
    }
   ],
   "source": [
    "#left gap\n",
    "lang1 = \"   python\"\n",
    "print(lang1)"
   ]
  },
  {
   "cell_type": "code",
   "execution_count": 19,
   "metadata": {},
   "outputs": [
    {
     "name": "stdout",
     "output_type": "stream",
     "text": [
      "python    \n"
     ]
    }
   ],
   "source": [
    "#right gap\n",
    "lang2 = \"python    \"\n",
    "print(lang2)"
   ]
  },
  {
   "cell_type": "code",
   "execution_count": 20,
   "metadata": {},
   "outputs": [
    {
     "data": {
      "text/plain": [
       "'python'"
      ]
     },
     "execution_count": 20,
     "metadata": {},
     "output_type": "execute_result"
    }
   ],
   "source": [
    "#Using strip method to trim whitespaces\n",
    "lang1.lstrip()"
   ]
  },
  {
   "cell_type": "code",
   "execution_count": 21,
   "metadata": {},
   "outputs": [
    {
     "data": {
      "text/plain": [
       "'python'"
      ]
     },
     "execution_count": 21,
     "metadata": {},
     "output_type": "execute_result"
    }
   ],
   "source": [
    "lang2.rstrip()"
   ]
  },
  {
   "cell_type": "code",
   "execution_count": 22,
   "metadata": {},
   "outputs": [
    {
     "name": "stdout",
     "output_type": "stream",
     "text": [
      "   python   \n"
     ]
    }
   ],
   "source": [
    "lang4 = \"   python   \"\n",
    "print(lang4)"
   ]
  },
  {
   "cell_type": "code",
   "execution_count": 23,
   "metadata": {},
   "outputs": [
    {
     "data": {
      "text/plain": [
       "'python'"
      ]
     },
     "execution_count": 23,
     "metadata": {},
     "output_type": "execute_result"
    }
   ],
   "source": [
    "# strip spaces from both ends---> does search operation\n",
    "lang4.strip()\n"
   ]
  },
  {
   "cell_type": "code",
   "execution_count": null,
   "metadata": {},
   "outputs": [],
   "source": []
  }
 ],
 "metadata": {
  "kernelspec": {
   "display_name": "Python 3",
   "language": "python",
   "name": "python3"
  },
  "language_info": {
   "codemirror_mode": {
    "name": "ipython",
    "version": 3
   },
   "file_extension": ".py",
   "mimetype": "text/x-python",
   "name": "python",
   "nbconvert_exporter": "python",
   "pygments_lexer": "ipython3",
   "version": "3.8.3"
  }
 },
 "nbformat": 4,
 "nbformat_minor": 4
}
